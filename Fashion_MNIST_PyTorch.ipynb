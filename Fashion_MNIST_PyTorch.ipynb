{
  "nbformat": 4,
  "nbformat_minor": 0,
  "metadata": {
    "colab": {
      "name": "Fashion MNIST PyTorch.ipynb",
      "provenance": [],
      "authorship_tag": "ABX9TyM2ecK6lBztp47ms4EvMo7e",
      "include_colab_link": true
    },
    "kernelspec": {
      "name": "python3",
      "display_name": "Python 3"
    }
  },
  "cells": [
    {
      "cell_type": "markdown",
      "metadata": {
        "id": "view-in-github",
        "colab_type": "text"
      },
      "source": [
        "<a href=\"https://colab.research.google.com/github/actuallyachraf/ai-notebooks/blob/main/Fashion_MNIST_PyTorch.ipynb\" target=\"_parent\"><img src=\"https://colab.research.google.com/assets/colab-badge.svg\" alt=\"Open In Colab\"/></a>"
      ]
    },
    {
      "cell_type": "code",
      "metadata": {
        "id": "K4LEMe9A25Oi"
      },
      "source": [
        "import torch.nn as nn\n",
        "import torch\n",
        "from torch.autograd import Variable\n",
        "import torch.nn.functional as F\n",
        "import torch.optim as optim"
      ],
      "execution_count": 1,
      "outputs": []
    },
    {
      "cell_type": "code",
      "metadata": {
        "id": "CMcw5BiB3DVQ"
      },
      "source": [
        "# import torchvision module to handle image manipulation\n",
        "import torchvision\n",
        "import torchvision.transforms as transforms\n",
        "\n",
        "# calculate train time, writing train data to files etc.\n",
        "import time\n",
        "import pandas as pd\n",
        "import json"
      ],
      "execution_count": 2,
      "outputs": []
    },
    {
      "cell_type": "code",
      "metadata": {
        "id": "Zpvtzyfl3MRo"
      },
      "source": [
        "class MLP(nn.Module):\n",
        "  def __init__(self):\n",
        "    super(MLP,self).__init__()\n",
        "    self.fc1 = nn.Linear(in_features=28*28,out_features=500)\n",
        "    self.fc2 = nn.Linear(in_features=500,out_features=200)\n",
        "    self.fc3 = nn.Linear(in_features=200,out_features=100)\n",
        "    self.out = nn.Linear(in_features=100,out_features=10)\n",
        "\n",
        "  def forward(self,t):\n",
        "    t = t.view(-1,28*28)\n",
        "    t = self.fc1(t)\n",
        "    t = F.relu(t)\n",
        "    # fc2\n",
        "    t = self.fc2(t)\n",
        "    t = F.relu(t)\n",
        "    # fc3\n",
        "    t = self.fc3(t)\n",
        "    t = F.relu(t)\n",
        "    # out\n",
        "    t = self.out(t)\n",
        "    return t\n"
      ],
      "execution_count": 3,
      "outputs": []
    },
    {
      "cell_type": "code",
      "metadata": {
        "id": "EcFEYm-a4Fnf"
      },
      "source": [
        "def train(net, loader, loss_func, optimizer):\n",
        "    net.train()\n",
        "    n_batches = len(loader)\n",
        "    for inputs, targets in loader:\n",
        "        inputs = Variable(inputs)\n",
        "        targets = Variable(targets)\n",
        "\n",
        "        output = net(inputs)\n",
        "        loss = loss_func(output, targets)\n",
        "\n",
        "        optimizer.zero_grad()\n",
        "        loss.backward()\n",
        "        optimizer.step()\n",
        "         # print statistics\n",
        "    running_loss = loss.item()\n",
        "    print('Training loss: %.3f' %( running_loss))\n",
        "\n",
        "def main():\n",
        "    train_set = torchvision.datasets.FashionMNIST(\n",
        "        root = './FMNIST',\n",
        "        train = True,\n",
        "        download = True,\n",
        "        transform = transforms.Compose([\n",
        "            transforms.ToTensor()\n",
        "        ])\n",
        "    )\n",
        "    mlp = MLP()\n",
        "    loader = torch.utils.data.DataLoader(train_set, batch_size = 500)\n",
        "    optimizer = optim.Adam(mlp.parameters(), lr=0.01)\n",
        "    loss_func=nn.CrossEntropyLoss()\n",
        "    for i in range(0,15):\n",
        "        train(mlp,loader,loss_func,optimizer)\n",
        "    print(\"Finished Training\")\n",
        "    torch.save(mlp.state_dict(), \"./mlpmodel.pt\")\n",
        "    test_set = torchvision.datasets.FashionMNIST(\n",
        "        root = './FMNIST',\n",
        "        train = False,\n",
        "        download = False,\n",
        "        transform = transforms.Compose([\n",
        "            transforms.ToTensor()\n",
        "        ])\n",
        "    )\n",
        "    testloader = torch.utils.data.DataLoader(test_set, batch_size=4)\n",
        "    correct = 0\n",
        "    total = 0\n",
        "    with torch.no_grad():\n",
        "        for data in testloader:\n",
        "            images, labels = data\n",
        "            outputs = mlp(images)\n",
        "            _, predicted = torch.max(outputs.data, 1)\n",
        "            total += labels.size(0)\n",
        "            correct += (predicted == labels).sum().item()\n",
        "    print('Accuracy of the network on the 10000 test images: %d %%' % (\n",
        "        100 * correct / total))"
      ],
      "execution_count": 8,
      "outputs": []
    },
    {
      "cell_type": "code",
      "metadata": {
        "id": "y9cDEWhi4Kk3",
        "outputId": "1363e439-780f-485b-919f-cfc0dc60d24f",
        "colab": {
          "base_uri": "https://localhost:8080/",
          "height": 312
        }
      },
      "source": [
        "main()"
      ],
      "execution_count": 12,
      "outputs": [
        {
          "output_type": "stream",
          "text": [
            "Training loss: 0.459\n",
            "Training loss: 0.399\n",
            "Training loss: 0.373\n",
            "Training loss: 0.313\n",
            "Training loss: 0.339\n",
            "Training loss: 0.278\n",
            "Training loss: 0.299\n",
            "Training loss: 0.281\n",
            "Training loss: 0.265\n",
            "Training loss: 0.281\n",
            "Training loss: 0.263\n",
            "Training loss: 0.242\n",
            "Training loss: 0.258\n",
            "Training loss: 0.233\n",
            "Training loss: 0.222\n",
            "Finished Training\n",
            "Accuracy of the network on the 10000 test images: 88 %\n"
          ],
          "name": "stdout"
        }
      ]
    },
    {
      "cell_type": "code",
      "metadata": {
        "id": "FFU-f1Tj41FO"
      },
      "source": [
        ""
      ],
      "execution_count": null,
      "outputs": []
    }
  ]
}