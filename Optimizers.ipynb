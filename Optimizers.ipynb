{
  "nbformat": 4,
  "nbformat_minor": 0,
  "metadata": {
    "colab": {
      "name": "Optimizers.ipynb",
      "provenance": [],
      "authorship_tag": "ABX9TyMITdOvsx70x0JpwWHRosjT",
      "include_colab_link": true
    },
    "kernelspec": {
      "name": "python3",
      "display_name": "Python 3"
    }
  },
  "cells": [
    {
      "cell_type": "markdown",
      "metadata": {
        "id": "view-in-github",
        "colab_type": "text"
      },
      "source": [
        "<a href=\"https://colab.research.google.com/github/actuallyachraf/ai-notebooks/blob/main/Optimizers.ipynb\" target=\"_parent\"><img src=\"https://colab.research.google.com/assets/colab-badge.svg\" alt=\"Open In Colab\"/></a>"
      ]
    },
    {
      "cell_type": "code",
      "metadata": {
        "id": "9Bk-OTvWRL_X",
        "outputId": "f8118dd2-e28d-4aa0-9497-c60a682df30d",
        "colab": {
          "base_uri": "https://localhost:8080/",
          "height": 501
        }
      },
      "source": [
        "from IPython.display import Image\n",
        "Image(url='https://ml-cheatsheet.readthedocs.io/en/latest/_images/optimizers.gif')"
      ],
      "execution_count": 1,
      "outputs": [
        {
          "output_type": "execute_result",
          "data": {
            "text/html": [
              "<img src=\"https://ml-cheatsheet.readthedocs.io/en/latest/_images/optimizers.gif\"/>"
            ],
            "text/plain": [
              "<IPython.core.display.Image object>"
            ]
          },
          "metadata": {
            "tags": []
          },
          "execution_count": 1
        }
      ]
    },
    {
      "cell_type": "code",
      "metadata": {
        "id": "lIEmfO7qSsvk"
      },
      "source": [
        "def compute_gradient(data,weights):\n",
        "  # essentially this would compute df(data,weights) = w*X\n",
        "  return 1"
      ],
      "execution_count": null,
      "outputs": []
    },
    {
      "cell_type": "code",
      "metadata": {
        "id": "7pD8ihA8RquP"
      },
      "source": [
        "# adagrad adaptively sets the gradient depending on parameters\n",
        "def adagrad(delta):\n",
        "  weights = np.random.rand(10,10)\n",
        "  theta = np.random.rand(10,10)\n",
        "  epsilon = 0.0003 # mathematicians in disbelief\n",
        "  lr = 0.001\n",
        "  gradient_sums = np.zeros(theta.shape[0])\n",
        "  for t in range(num_iterations):\n",
        "    gradients = compute_gradient(data,weights)\n",
        "    gradient_sums += gradients**2\n",
        "    gradient_update = gradients / (np.sqrt(gradient_sums + epsilon))\n",
        "    weights = weights - lr * gradient_update\n",
        "  return weights"
      ],
      "execution_count": 2,
      "outputs": []
    },
    {
      "cell_type": "code",
      "metadata": {
        "id": "hm3te0_mTxYz"
      },
      "source": [
        "def adadelta(weights, sqrs, deltas, rho, batch_size):\n",
        "    eps_stable = 1e-5\n",
        "    for weight, sqr, delta in zip(weights, sqrs, deltas):\n",
        "        g = weight.grad / batch_size\n",
        "        sqr[:] = rho * sqr + (1. - rho) * nd.square(g)\n",
        "        cur_delta = nd.sqrt(delta + eps_stable) / nd.sqrt(sqr + eps_stable) * g\n",
        "        delta[:] = rho * delta + (1. - rho) * cur_delta * cur_delta\n",
        "        # update weight in place.\n",
        "        weight[:] -= cur_delta"
      ],
      "execution_count": 4,
      "outputs": []
    },
    {
      "cell_type": "code",
      "metadata": {
        "id": "g60q1udkT6xa"
      },
      "source": [
        ""
      ],
      "execution_count": null,
      "outputs": []
    }
  ]
}